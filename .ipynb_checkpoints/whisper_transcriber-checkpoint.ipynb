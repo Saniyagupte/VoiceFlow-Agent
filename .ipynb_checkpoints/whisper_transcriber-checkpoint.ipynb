{
 "cells": [
  {
   "cell_type": "code",
   "execution_count": 4,
   "id": "7ac0a2a1-eff8-442d-92fd-b7891a01d3a3",
   "metadata": {},
   "outputs": [],
   "source": [
    "import sounddevice as sd\n",
    "from scipy.io.wavfile import write\n",
    "import whisper\n",
    "import time\n",
    "\n",
    "def record_audio(filename=\"input.wav\", duration=5, fs=44100):\n",
    "    print(\" Recording for\", duration, \"seconds...\")\n",
    "    audio = sd.rec(int(duration * fs), samplerate=fs, channels=1, dtype='int16')\n",
    "    sd.wait()\n",
    "    write(filename, fs, audio)\n",
    "    print(\" Recording saved to\", filename)\n",
    "\n",
    "def transcribe_audio(filename=\"input.wav\", model_size=\"base\"):\n",
    "    print(\" Loading Whisper model...\")\n",
    "    model = whisper.load_model(model_size)\n",
    "    print(\" Transcribing...\")\n",
    "    result = model.transcribe(filename)\n",
    "    print(\" Transcription:\", result[\"text\"])\n",
    "    return result[\"text\"]\n",
    "\n",
    "def get_speech_to_text():\n",
    "    timestamp = int(time.time())\n",
    "    filename = f\"audio_{timestamp}.wav\"\n",
    "    record_audio(filename)\n",
    "    return transcribe_audio(filename)\n"
   ]
  },
  {
   "cell_type": "code",
   "execution_count": 2,
   "id": "d861ab4a-3784-4c43-9973-da42ecae2a97",
   "metadata": {},
   "outputs": [
    {
     "name": "stdout",
     "output_type": "stream",
     "text": [
      "Collecting cohere\n",
      "  Downloading cohere-5.15.0-py3-none-any.whl.metadata (3.4 kB)\n",
      "Collecting fastavro<2.0.0,>=1.9.4 (from cohere)\n",
      "  Downloading fastavro-1.11.1-cp39-cp39-win_amd64.whl.metadata (5.7 kB)\n",
      "Requirement already satisfied: httpx>=0.21.2 in c:\\users\\vanda\\.conda\\envs\\tensorflow\\lib\\site-packages (from cohere) (0.27.0)\n",
      "Collecting httpx-sse==0.4.0 (from cohere)\n",
      "  Downloading httpx_sse-0.4.0-py3-none-any.whl.metadata (9.0 kB)\n",
      "Requirement already satisfied: pydantic>=1.9.2 in c:\\users\\vanda\\.conda\\envs\\tensorflow\\lib\\site-packages (from cohere) (2.11.7)\n",
      "Requirement already satisfied: pydantic-core<3.0.0,>=2.18.2 in c:\\users\\vanda\\.conda\\envs\\tensorflow\\lib\\site-packages (from cohere) (2.33.2)\n",
      "Requirement already satisfied: requests<3.0.0,>=2.0.0 in c:\\users\\vanda\\.conda\\envs\\tensorflow\\lib\\site-packages (from cohere) (2.32.3)\n",
      "Collecting tokenizers<1,>=0.15 (from cohere)\n",
      "  Downloading tokenizers-0.21.1-cp39-abi3-win_amd64.whl.metadata (6.9 kB)\n",
      "Collecting types-requests<3.0.0,>=2.0.0 (from cohere)\n",
      "  Downloading types_requests-2.32.4.20250611-py3-none-any.whl.metadata (2.1 kB)\n",
      "Requirement already satisfied: typing_extensions>=4.0.0 in c:\\users\\vanda\\.conda\\envs\\tensorflow\\lib\\site-packages (from cohere) (4.12.2)\n",
      "Requirement already satisfied: anyio in c:\\users\\vanda\\.conda\\envs\\tensorflow\\lib\\site-packages (from httpx>=0.21.2->cohere) (4.6.2)\n",
      "Requirement already satisfied: certifi in c:\\users\\vanda\\.conda\\envs\\tensorflow\\lib\\site-packages (from httpx>=0.21.2->cohere) (2025.1.31)\n",
      "Requirement already satisfied: httpcore==1.* in c:\\users\\vanda\\.conda\\envs\\tensorflow\\lib\\site-packages (from httpx>=0.21.2->cohere) (1.0.2)\n",
      "Requirement already satisfied: idna in c:\\users\\vanda\\.conda\\envs\\tensorflow\\lib\\site-packages (from httpx>=0.21.2->cohere) (3.7)\n",
      "Requirement already satisfied: sniffio in c:\\users\\vanda\\.conda\\envs\\tensorflow\\lib\\site-packages (from httpx>=0.21.2->cohere) (1.3.0)\n",
      "Requirement already satisfied: h11<0.15,>=0.13 in c:\\users\\vanda\\.conda\\envs\\tensorflow\\lib\\site-packages (from httpcore==1.*->httpx>=0.21.2->cohere) (0.14.0)\n",
      "Requirement already satisfied: annotated-types>=0.6.0 in c:\\users\\vanda\\.conda\\envs\\tensorflow\\lib\\site-packages (from pydantic>=1.9.2->cohere) (0.7.0)\n",
      "Requirement already satisfied: typing-inspection>=0.4.0 in c:\\users\\vanda\\.conda\\envs\\tensorflow\\lib\\site-packages (from pydantic>=1.9.2->cohere) (0.4.1)\n",
      "Requirement already satisfied: charset-normalizer<4,>=2 in c:\\users\\vanda\\.conda\\envs\\tensorflow\\lib\\site-packages (from requests<3.0.0,>=2.0.0->cohere) (3.3.2)\n",
      "Requirement already satisfied: urllib3<3,>=1.21.1 in c:\\users\\vanda\\.conda\\envs\\tensorflow\\lib\\site-packages (from requests<3.0.0,>=2.0.0->cohere) (2.3.0)\n",
      "Collecting huggingface-hub<1.0,>=0.16.4 (from tokenizers<1,>=0.15->cohere)\n",
      "  Downloading huggingface_hub-0.33.0-py3-none-any.whl.metadata (14 kB)\n",
      "Requirement already satisfied: filelock in c:\\users\\vanda\\.conda\\envs\\tensorflow\\lib\\site-packages (from huggingface-hub<1.0,>=0.16.4->tokenizers<1,>=0.15->cohere) (3.18.0)\n",
      "Requirement already satisfied: fsspec>=2023.5.0 in c:\\users\\vanda\\.conda\\envs\\tensorflow\\lib\\site-packages (from huggingface-hub<1.0,>=0.16.4->tokenizers<1,>=0.15->cohere) (2025.5.1)\n",
      "Requirement already satisfied: packaging>=20.9 in c:\\users\\vanda\\.conda\\envs\\tensorflow\\lib\\site-packages (from huggingface-hub<1.0,>=0.16.4->tokenizers<1,>=0.15->cohere) (24.2)\n",
      "Requirement already satisfied: pyyaml>=5.1 in c:\\users\\vanda\\.conda\\envs\\tensorflow\\lib\\site-packages (from huggingface-hub<1.0,>=0.16.4->tokenizers<1,>=0.15->cohere) (6.0.2)\n",
      "Requirement already satisfied: tqdm>=4.42.1 in c:\\users\\vanda\\.conda\\envs\\tensorflow\\lib\\site-packages (from huggingface-hub<1.0,>=0.16.4->tokenizers<1,>=0.15->cohere) (4.67.1)\n",
      "Requirement already satisfied: exceptiongroup>=1.0.2 in c:\\users\\vanda\\.conda\\envs\\tensorflow\\lib\\site-packages (from anyio->httpx>=0.21.2->cohere) (1.2.0)\n",
      "Requirement already satisfied: colorama in c:\\users\\vanda\\.conda\\envs\\tensorflow\\lib\\site-packages (from tqdm>=4.42.1->huggingface-hub<1.0,>=0.16.4->tokenizers<1,>=0.15->cohere) (0.4.6)\n",
      "Downloading cohere-5.15.0-py3-none-any.whl (259 kB)\n",
      "Downloading httpx_sse-0.4.0-py3-none-any.whl (7.8 kB)\n",
      "Downloading fastavro-1.11.1-cp39-cp39-win_amd64.whl (509 kB)\n",
      "Downloading tokenizers-0.21.1-cp39-abi3-win_amd64.whl (2.4 MB)\n",
      "   ---------------------------------------- 0.0/2.4 MB ? eta -:--:--\n",
      "   -------- ------------------------------- 0.5/2.4 MB 4.2 MB/s eta 0:00:01\n",
      "   --------------------- ------------------ 1.3/2.4 MB 3.2 MB/s eta 0:00:01\n",
      "   ---------------------------------------- 2.4/2.4 MB 4.0 MB/s eta 0:00:00\n",
      "Downloading types_requests-2.32.4.20250611-py3-none-any.whl (20 kB)\n",
      "Downloading huggingface_hub-0.33.0-py3-none-any.whl (514 kB)\n",
      "Installing collected packages: types-requests, httpx-sse, fastavro, huggingface-hub, tokenizers, cohere\n",
      "Successfully installed cohere-5.15.0 fastavro-1.11.1 httpx-sse-0.4.0 huggingface-hub-0.33.0 tokenizers-0.21.1 types-requests-2.32.4.20250611\n"
     ]
    }
   ],
   "source": [
    "!pip install cohere\n"
   ]
  },
  {
   "cell_type": "code",
   "execution_count": null,
   "id": "833ba773-907d-4a7e-b369-acba0af48082",
   "metadata": {},
   "outputs": [],
   "source": []
  }
 ],
 "metadata": {
  "kernelspec": {
   "display_name": "Python 3 (ipykernel)",
   "language": "python",
   "name": "python3"
  },
  "language_info": {
   "codemirror_mode": {
    "name": "ipython",
    "version": 3
   },
   "file_extension": ".py",
   "mimetype": "text/x-python",
   "name": "python",
   "nbconvert_exporter": "python",
   "pygments_lexer": "ipython3",
   "version": "3.9.21"
  }
 },
 "nbformat": 4,
 "nbformat_minor": 5
}

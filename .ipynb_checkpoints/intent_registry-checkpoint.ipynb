{
 "cells": [
  {
   "cell_type": "code",
   "execution_count": 1,
   "id": "680c838b-0673-49a0-a55a-e7025c11a1f2",
   "metadata": {},
   "outputs": [],
   "source": [
    "# intent_registry.py\n",
    "INTENTS = {}\n",
    "\n",
    "def register_intent(intent_name):\n",
    "    def wrapper(cls):\n",
    "        INTENTS[intent_name] = cls\n",
    "        return cls\n",
    "    return wrapper\n",
    "\n",
    "# usage\n",
    "@register_intent(\"turn_on_light\")\n",
    "class TurnOnLightHandler:\n",
    "    def execute(self, task): ...\n"
   ]
  },
  {
   "cell_type": "code",
   "execution_count": null,
   "id": "85f5e6e9-2ab8-4033-898f-8939cd7a41c8",
   "metadata": {},
   "outputs": [],
   "source": []
  }
 ],
 "metadata": {
  "kernelspec": {
   "display_name": "Python 3 (ipykernel)",
   "language": "python",
   "name": "python3"
  },
  "language_info": {
   "codemirror_mode": {
    "name": "ipython",
    "version": 3
   },
   "file_extension": ".py",
   "mimetype": "text/x-python",
   "name": "python",
   "nbconvert_exporter": "python",
   "pygments_lexer": "ipython3",
   "version": "3.9.21"
  }
 },
 "nbformat": 4,
 "nbformat_minor": 5
}

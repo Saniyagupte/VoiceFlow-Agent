{
 "cells": [
  {
   "cell_type": "code",
   "execution_count": 2,
   "id": "7ac0a2a1-eff8-442d-92fd-b7891a01d3a3",
   "metadata": {},
   "outputs": [
    {
     "name": "stdout",
     "output_type": "stream",
     "text": [
      "Error during minimal chat call: chat() got an unexpected keyword argument 'messages'\n"
     ]
    }
   ],
   "source": [
    "import cohere\n",
    "import os\n",
    "from dotenv import load_dotenv\n",
    "\n",
    "# Ensure .env is loaded if your API key is there\n",
    "load_dotenv()\n",
    "api_key = os.getenv(\"COHERE_API_KEY\")\n",
    "\n",
    "# Initialize client\n",
    "co = cohere.Client(api_key)\n",
    "\n",
    "# Minimal chat call\n",
    "try:\n",
    "    response = co.chat(\n",
    "        model=\"command-r\",\n",
    "        messages=[\n",
    "            {\"role\": \"user\", \"content\": \"Hello, how are you?\"}\n",
    "        ],\n",
    "        temperature=0.3,\n",
    "        max_tokens=50,\n",
    "    )\n",
    "    print(\"Chat API call successful!\")\n",
    "    print(response.text)\n",
    "except Exception as e:\n",
    "    print(f\"Error during minimal chat call: {e}\")"
   ]
  },
  {
   "cell_type": "code",
   "execution_count": null,
   "id": "599ede3e-1d80-4120-bcb6-c8425d5e9859",
   "metadata": {},
   "outputs": [],
   "source": []
  }
 ],
 "metadata": {
  "kernelspec": {
   "display_name": "Python 3 (ipykernel)",
   "language": "python",
   "name": "python3"
  },
  "language_info": {
   "codemirror_mode": {
    "name": "ipython",
    "version": 3
   },
   "file_extension": ".py",
   "mimetype": "text/x-python",
   "name": "python",
   "nbconvert_exporter": "python",
   "pygments_lexer": "ipython3",
   "version": "3.9.21"
  }
 },
 "nbformat": 4,
 "nbformat_minor": 5
}

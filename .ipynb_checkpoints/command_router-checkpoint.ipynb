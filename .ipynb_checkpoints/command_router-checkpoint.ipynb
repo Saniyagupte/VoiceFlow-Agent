{
 "cells": [
  {
   "cell_type": "code",
   "execution_count": 1,
   "id": "9fdb3159-4170-4e34-aa34-c5ba01a3e0cd",
   "metadata": {},
   "outputs": [
    {
     "ename": "ImportError",
     "evalue": "cannot import name 'OpenFileHandler' from 'handlers' (C:\\Users\\vanda\\VoiceFlow Agent\\handlers.py)",
     "output_type": "error",
     "traceback": [
      "\u001b[1;31m---------------------------------------------------------------------------\u001b[0m",
      "\u001b[1;31mImportError\u001b[0m                               Traceback (most recent call last)",
      "Cell \u001b[1;32mIn[1], line 2\u001b[0m\n\u001b[0;32m      1\u001b[0m \u001b[38;5;66;03m# command_router.py\u001b[39;00m\n\u001b[1;32m----> 2\u001b[0m \u001b[38;5;28;01mfrom\u001b[39;00m\u001b[38;5;250m \u001b[39m\u001b[38;5;21;01mhandlers\u001b[39;00m\u001b[38;5;250m \u001b[39m\u001b[38;5;28;01mimport\u001b[39;00m OpenFileHandler, SendEmailHandler\n\u001b[0;32m      4\u001b[0m COMMAND_REGISTRY \u001b[38;5;241m=\u001b[39m {\n\u001b[0;32m      5\u001b[0m     \u001b[38;5;124m\"\u001b[39m\u001b[38;5;124mopen_file\u001b[39m\u001b[38;5;124m\"\u001b[39m: OpenFileHandler,\n\u001b[0;32m      6\u001b[0m     \u001b[38;5;124m\"\u001b[39m\u001b[38;5;124msend_email\u001b[39m\u001b[38;5;124m\"\u001b[39m: SendEmailHandler,\n\u001b[0;32m      7\u001b[0m     \u001b[38;5;66;03m# ... scalable to 100s of commands\u001b[39;00m\n\u001b[0;32m      8\u001b[0m }\n",
      "\u001b[1;31mImportError\u001b[0m: cannot import name 'OpenFileHandler' from 'handlers' (C:\\Users\\vanda\\VoiceFlow Agent\\handlers.py)"
     ]
    }
   ],
   "source": [
    "# command_router.py\n",
    "from handlers import OpenFileHandler, SendEmailHandler\n",
    "\n",
    "COMMAND_REGISTRY = {\n",
    "    \"open_file\": OpenFileHandler,\n",
    "    \"send_email\": SendEmailHandler,\n",
    "    # ... scalable to 100s of commands\n",
    "}\n"
   ]
  },
  {
   "cell_type": "code",
   "execution_count": null,
   "id": "3d26dbae-63b2-4621-aed6-435629d6b5b2",
   "metadata": {},
   "outputs": [],
   "source": []
  }
 ],
 "metadata": {
  "kernelspec": {
   "display_name": "Python 3 (ipykernel)",
   "language": "python",
   "name": "python3"
  },
  "language_info": {
   "codemirror_mode": {
    "name": "ipython",
    "version": 3
   },
   "file_extension": ".py",
   "mimetype": "text/x-python",
   "name": "python",
   "nbconvert_exporter": "python",
   "pygments_lexer": "ipython3",
   "version": "3.9.21"
  }
 },
 "nbformat": 4,
 "nbformat_minor": 5
}

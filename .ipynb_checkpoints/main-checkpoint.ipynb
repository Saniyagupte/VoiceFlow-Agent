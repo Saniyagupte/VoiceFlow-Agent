{
 "cells": [
  {
   "cell_type": "code",
   "execution_count": null,
   "id": "76e1a743-3ab6-40b4-b52a-90b2adfa3ba3",
   "metadata": {},
   "outputs": [],
   "source": []
  },
  {
   "cell_type": "code",
   "execution_count": null,
   "id": "13cd3422-1a31-450d-ad26-166a8a9ee282",
   "metadata": {},
   "outputs": [],
   "source": []
  },
  {
   "cell_type": "code",
   "execution_count": null,
   "id": "9334716f-6ffb-48e2-8a14-f42af27dde60",
   "metadata": {},
   "outputs": [],
   "source": []
  },
  {
   "cell_type": "code",
   "execution_count": null,
   "id": "7e1926f6-1878-4cf5-a2a7-48d7b5f7b87b",
   "metadata": {},
   "outputs": [],
   "source": []
  },
  {
   "cell_type": "code",
   "execution_count": null,
   "id": "5999dacc-2fda-4fb7-a44c-9570428d3167",
   "metadata": {},
   "outputs": [],
   "source": []
  },
  {
   "cell_type": "code",
   "execution_count": null,
   "id": "a82f7880-b250-4d67-9b17-4a1dec8d4405",
   "metadata": {},
   "outputs": [],
   "source": []
  },
  {
   "cell_type": "code",
   "execution_count": null,
   "id": "23ae4b0d-6458-41bf-86e8-d97feb7f86e1",
   "metadata": {},
   "outputs": [],
   "source": []
  },
  {
   "cell_type": "code",
   "execution_count": 2,
   "id": "e822d712-73bc-4f4b-969c-b76d955e7244",
   "metadata": {},
   "outputs": [
    {
     "name": "stdout",
     "output_type": "stream",
     "text": [
      "🎤 Speak now...\n",
      "❌ Could not understand.\n",
      "\n",
      "📝 Transcribed Text: None\n",
      "\n",
      "🧠 Generated Plan: {}\n",
      "❌ Unknown intent: None\n"
     ]
    }
   ],
   "source": [
    "# main.py\n",
    "from speech_to_text import get_speech_input\n",
    "from nlp_planner_cohere import get_intent_plan\n",
    "from agent_executor import execute\n",
    "\n",
    "def main():\n",
    "    # 🎙️ Step 1: Voice to Text\n",
    "    text = get_speech_input()\n",
    "    print(\"\\n Transcribed Text:\", text)\n",
    "\n",
    "    # 🧠 Step 2: Text to JSON Plan\n",
    "    plan = get_intent_plan(text)\n",
    "    print(\"\\n Generated Plan:\", plan)\n",
    "\n",
    "    execute(plan)\n",
    "if __name__ == \"__main__\":\n",
    "    main()\n"
   ]
  },
  {
   "cell_type": "code",
   "execution_count": null,
   "id": "6c7302ef-4166-4315-82e0-ca1055bf4660",
   "metadata": {},
   "outputs": [],
   "source": []
  },
  {
   "cell_type": "code",
   "execution_count": null,
   "id": "1bdcd30a-b55c-4ec6-b478-19f6a7a06a52",
   "metadata": {},
   "outputs": [],
   "source": []
  },
  {
   "cell_type": "code",
   "execution_count": null,
   "id": "65883b8a-2b72-4588-9b09-3e911787bc32",
   "metadata": {},
   "outputs": [],
   "source": []
  }
 ],
 "metadata": {
  "kernelspec": {
   "display_name": "Python 3 (ipykernel)",
   "language": "python",
   "name": "python3"
  },
  "language_info": {
   "codemirror_mode": {
    "name": "ipython",
    "version": 3
   },
   "file_extension": ".py",
   "mimetype": "text/x-python",
   "name": "python",
   "nbconvert_exporter": "python",
   "pygments_lexer": "ipython3",
   "version": "3.9.21"
  }
 },
 "nbformat": 4,
 "nbformat_minor": 5
}

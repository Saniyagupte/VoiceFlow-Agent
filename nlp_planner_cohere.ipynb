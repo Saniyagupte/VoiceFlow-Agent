{
 "cells": [
  {
   "cell_type": "code",
   "execution_count": 2,
   "id": "0e7666b3-6bb4-407b-b544-a9b640704557",
   "metadata": {},
   "outputs": [],
   "source": [
    "#!/usr/bin/env python\n",
    "# coding: utf-8\n",
    "\n",
    "# In[3]:\n",
    "\n",
    "\n",
    "import cohere\n",
    "import os\n",
    "from dotenv import load_dotenv\n",
    "import json\n",
    "\n",
    "load_dotenv()\n",
    "api_key = os.getenv(\"COHERE_API_KEY\")\n",
    "\n",
    "#  Use the V2 client from the new SDK\n",
    "co = cohere.ClientV2(api_key=api_key)\n",
    "\n",
    "def get_intent_plan(user_text):\n",
    "    messages = [\n",
    "        {\"role\": \"system\", \"content\": \"\"\"\n",
    "        Convert the following natural language instruction into structured JSON for automation.\n",
    "\n",
    "        Examples:\n",
    "        User: \"Send an email to John saying I’ll be late\"\n",
    "        JSON: {\"intent\": \"send_email\", \"recipient\": \"John\", \"body\": \"I’ll be late\"}\n",
    "\n",
    "        User: \"Summarize the PDF in Downloads\"\n",
    "        JSON: {\"intent\": \"summarize_file\", \"file_path\": \"Downloads/latest\"}\n",
    "\n",
    "        User: \"Open Spotify and play my chill playlist\"\n",
    "        JSON: {\"intent\": \"open_app\", \"app_name\": \"Spotify\", \"action\": \"play_playlist\", \"playlist_name\": \"chill\"}\n",
    "\n",
    "        Now process this:\n",
    "        \"\"\"},\n",
    "        {\"role\": \"user\", \"content\": f\"User: \\\"{user_text}\\\"\\nJSON:\"}\n",
    "    ]\n",
    "\n",
    "    response = co.chat(\n",
    "        model=\"command-r-plus\",\n",
    "        messages=messages,\n",
    "        temperature=0.3,\n",
    "        max_tokens=100,\n",
    "    )\n",
    "\n",
    "        #  Extract only the text portion from the assistant's message\n",
    "    try:\n",
    "    content_items = response.message.content  # This is a list\n",
    "    text_blocks = [item.text for item in content_items if hasattr(item, \"text\")]\n",
    "    raw_text = \"\".join(text_blocks).strip()\n",
    "\n",
    "    #  Remove markdown-style code block formatting\n",
    "        if raw_text.startswith(\"```\"):\n",
    "            raw_text = raw_text.strip(\"`\").strip()\n",
    "            if raw_text.startswith(\"json\"):\n",
    "                raw_text = raw_text[len(\"json\"):].strip()\n",
    "    \n",
    "        return json.loads(raw_text)\n",
    "\n",
    "    except Exception as e:\n",
    "        raw_output = response.message.content if hasattr(response, \"message\") else \"N/A\"\n",
    "        print(f\" Parsing failed. Raw output: {raw_output}. Error: {e}\")\n",
    "        return {\"intent\": \"unknown\", \"raw\": user_text}\n"
   ]
  },
  {
   "cell_type": "code",
   "execution_count": 4,
   "id": "57f5eb4d-463e-488b-b0fe-442829036af0",
   "metadata": {},
   "outputs": [
    {
     "name": "stdout",
     "output_type": "stream",
     "text": [
      "Requirement already satisfied: cohere in c:\\users\\vanda\\.conda\\envs\\tensorflow\\lib\\site-packages (4.38)\n",
      "Requirement already satisfied: aiohttp<4.0,>=3.0 in c:\\users\\vanda\\.conda\\envs\\tensorflow\\lib\\site-packages (from cohere) (3.12.12)\n",
      "Requirement already satisfied: backoff<3.0,>=2.0 in c:\\users\\vanda\\.conda\\envs\\tensorflow\\lib\\site-packages (from cohere) (2.2.1)\n",
      "Requirement already satisfied: fastavro<2.0,>=1.8 in c:\\users\\vanda\\.conda\\envs\\tensorflow\\lib\\site-packages (from cohere) (1.11.1)\n",
      "Requirement already satisfied: importlib_metadata<7.0,>=6.0 in c:\\users\\vanda\\.conda\\envs\\tensorflow\\lib\\site-packages (from cohere) (6.11.0)\n",
      "Requirement already satisfied: requests<3.0.0,>=2.25.0 in c:\\users\\vanda\\.conda\\envs\\tensorflow\\lib\\site-packages (from cohere) (2.32.4)\n",
      "Requirement already satisfied: urllib3<3,>=1.26 in c:\\users\\vanda\\.conda\\envs\\tensorflow\\lib\\site-packages (from cohere) (2.4.0)\n",
      "Requirement already satisfied: aiohappyeyeballs>=2.5.0 in c:\\users\\vanda\\.conda\\envs\\tensorflow\\lib\\site-packages (from aiohttp<4.0,>=3.0->cohere) (2.6.1)\n",
      "Requirement already satisfied: aiosignal>=1.1.2 in c:\\users\\vanda\\.conda\\envs\\tensorflow\\lib\\site-packages (from aiohttp<4.0,>=3.0->cohere) (1.3.2)\n",
      "Requirement already satisfied: async-timeout<6.0,>=4.0 in c:\\users\\vanda\\.conda\\envs\\tensorflow\\lib\\site-packages (from aiohttp<4.0,>=3.0->cohere) (5.0.1)\n",
      "Requirement already satisfied: attrs>=17.3.0 in c:\\users\\vanda\\.conda\\envs\\tensorflow\\lib\\site-packages (from aiohttp<4.0,>=3.0->cohere) (25.3.0)\n",
      "Requirement already satisfied: frozenlist>=1.1.1 in c:\\users\\vanda\\.conda\\envs\\tensorflow\\lib\\site-packages (from aiohttp<4.0,>=3.0->cohere) (1.7.0)\n",
      "Requirement already satisfied: multidict<7.0,>=4.5 in c:\\users\\vanda\\.conda\\envs\\tensorflow\\lib\\site-packages (from aiohttp<4.0,>=3.0->cohere) (6.4.4)\n",
      "Requirement already satisfied: propcache>=0.2.0 in c:\\users\\vanda\\.conda\\envs\\tensorflow\\lib\\site-packages (from aiohttp<4.0,>=3.0->cohere) (0.3.2)\n",
      "Requirement already satisfied: yarl<2.0,>=1.17.0 in c:\\users\\vanda\\.conda\\envs\\tensorflow\\lib\\site-packages (from aiohttp<4.0,>=3.0->cohere) (1.20.1)\n",
      "Requirement already satisfied: zipp>=0.5 in c:\\users\\vanda\\.conda\\envs\\tensorflow\\lib\\site-packages (from importlib_metadata<7.0,>=6.0->cohere) (3.23.0)\n",
      "Requirement already satisfied: charset_normalizer<4,>=2 in c:\\users\\vanda\\.conda\\envs\\tensorflow\\lib\\site-packages (from requests<3.0.0,>=2.25.0->cohere) (3.4.2)\n",
      "Requirement already satisfied: idna<4,>=2.5 in c:\\users\\vanda\\.conda\\envs\\tensorflow\\lib\\site-packages (from requests<3.0.0,>=2.25.0->cohere) (3.10)\n",
      "Requirement already satisfied: certifi>=2017.4.17 in c:\\users\\vanda\\.conda\\envs\\tensorflow\\lib\\site-packages (from requests<3.0.0,>=2.25.0->cohere) (2025.4.26)\n",
      "Requirement already satisfied: typing-extensions>=4.1.0 in c:\\users\\vanda\\.conda\\envs\\tensorflow\\lib\\site-packages (from multidict<7.0,>=4.5->aiohttp<4.0,>=3.0->cohere) (4.14.0)\n"
     ]
    }
   ],
   "source": [
    "!pip install cohere"
   ]
  },
  {
   "cell_type": "code",
   "execution_count": 6,
   "id": "1e392eff-8e2f-4273-aada-234ff636fbf1",
   "metadata": {},
   "outputs": [
    {
     "name": "stdout",
     "output_type": "stream",
     "text": [
      "Requirement already satisfied: cohere in c:\\users\\vanda\\.conda\\envs\\tensorflow\\lib\\site-packages (4.38)Note: you may need to restart the kernel to use updated packages.\n",
      "\n",
      "Collecting cohere\n",
      "  Using cached cohere-5.15.0-py3-none-any.whl.metadata (3.4 kB)\n",
      "Requirement already satisfied: fastavro<2.0.0,>=1.9.4 in c:\\users\\vanda\\.conda\\envs\\tensorflow\\lib\\site-packages (from cohere) (1.11.1)\n",
      "Requirement already satisfied: httpx>=0.21.2 in c:\\users\\vanda\\.conda\\envs\\tensorflow\\lib\\site-packages (from cohere) (0.27.0)\n",
      "Requirement already satisfied: httpx-sse==0.4.0 in c:\\users\\vanda\\.conda\\envs\\tensorflow\\lib\\site-packages (from cohere) (0.4.0)\n",
      "Requirement already satisfied: pydantic>=1.9.2 in c:\\users\\vanda\\.conda\\envs\\tensorflow\\lib\\site-packages (from cohere) (2.11.7)\n",
      "Requirement already satisfied: pydantic-core<3.0.0,>=2.18.2 in c:\\users\\vanda\\.conda\\envs\\tensorflow\\lib\\site-packages (from cohere) (2.33.2)\n",
      "Requirement already satisfied: requests<3.0.0,>=2.0.0 in c:\\users\\vanda\\.conda\\envs\\tensorflow\\lib\\site-packages (from cohere) (2.32.4)\n",
      "Requirement already satisfied: tokenizers<1,>=0.15 in c:\\users\\vanda\\.conda\\envs\\tensorflow\\lib\\site-packages (from cohere) (0.21.1)\n",
      "Requirement already satisfied: types-requests<3.0.0,>=2.0.0 in c:\\users\\vanda\\.conda\\envs\\tensorflow\\lib\\site-packages (from cohere) (2.32.4.20250611)\n",
      "Requirement already satisfied: typing_extensions>=4.0.0 in c:\\users\\vanda\\.conda\\envs\\tensorflow\\lib\\site-packages (from cohere) (4.14.0)\n",
      "Requirement already satisfied: anyio in c:\\users\\vanda\\.conda\\envs\\tensorflow\\lib\\site-packages (from httpx>=0.21.2->cohere) (4.6.2)\n",
      "Requirement already satisfied: certifi in c:\\users\\vanda\\.conda\\envs\\tensorflow\\lib\\site-packages (from httpx>=0.21.2->cohere) (2025.4.26)\n",
      "Requirement already satisfied: httpcore==1.* in c:\\users\\vanda\\.conda\\envs\\tensorflow\\lib\\site-packages (from httpx>=0.21.2->cohere) (1.0.2)\n",
      "Requirement already satisfied: idna in c:\\users\\vanda\\.conda\\envs\\tensorflow\\lib\\site-packages (from httpx>=0.21.2->cohere) (3.10)\n",
      "Requirement already satisfied: sniffio in c:\\users\\vanda\\.conda\\envs\\tensorflow\\lib\\site-packages (from httpx>=0.21.2->cohere) (1.3.0)\n",
      "Requirement already satisfied: h11<0.15,>=0.13 in c:\\users\\vanda\\.conda\\envs\\tensorflow\\lib\\site-packages (from httpcore==1.*->httpx>=0.21.2->cohere) (0.14.0)\n",
      "Requirement already satisfied: annotated-types>=0.6.0 in c:\\users\\vanda\\.conda\\envs\\tensorflow\\lib\\site-packages (from pydantic>=1.9.2->cohere) (0.7.0)\n",
      "Requirement already satisfied: typing-inspection>=0.4.0 in c:\\users\\vanda\\.conda\\envs\\tensorflow\\lib\\site-packages (from pydantic>=1.9.2->cohere) (0.4.1)\n",
      "Requirement already satisfied: charset_normalizer<4,>=2 in c:\\users\\vanda\\.conda\\envs\\tensorflow\\lib\\site-packages (from requests<3.0.0,>=2.0.0->cohere) (3.4.2)\n",
      "Requirement already satisfied: urllib3<3,>=1.21.1 in c:\\users\\vanda\\.conda\\envs\\tensorflow\\lib\\site-packages (from requests<3.0.0,>=2.0.0->cohere) (2.4.0)\n",
      "Requirement already satisfied: huggingface-hub<1.0,>=0.16.4 in c:\\users\\vanda\\.conda\\envs\\tensorflow\\lib\\site-packages (from tokenizers<1,>=0.15->cohere) (0.33.0)\n",
      "Requirement already satisfied: filelock in c:\\users\\vanda\\.conda\\envs\\tensorflow\\lib\\site-packages (from huggingface-hub<1.0,>=0.16.4->tokenizers<1,>=0.15->cohere) (3.18.0)\n",
      "Requirement already satisfied: fsspec>=2023.5.0 in c:\\users\\vanda\\.conda\\envs\\tensorflow\\lib\\site-packages (from huggingface-hub<1.0,>=0.16.4->tokenizers<1,>=0.15->cohere) (2025.5.1)\n",
      "Requirement already satisfied: packaging>=20.9 in c:\\users\\vanda\\.conda\\envs\\tensorflow\\lib\\site-packages (from huggingface-hub<1.0,>=0.16.4->tokenizers<1,>=0.15->cohere) (24.2)\n",
      "Requirement already satisfied: pyyaml>=5.1 in c:\\users\\vanda\\.conda\\envs\\tensorflow\\lib\\site-packages (from huggingface-hub<1.0,>=0.16.4->tokenizers<1,>=0.15->cohere) (6.0.2)\n",
      "Requirement already satisfied: tqdm>=4.42.1 in c:\\users\\vanda\\.conda\\envs\\tensorflow\\lib\\site-packages (from huggingface-hub<1.0,>=0.16.4->tokenizers<1,>=0.15->cohere) (4.67.1)\n",
      "Requirement already satisfied: exceptiongroup>=1.0.2 in c:\\users\\vanda\\.conda\\envs\\tensorflow\\lib\\site-packages (from anyio->httpx>=0.21.2->cohere) (1.2.0)\n",
      "Requirement already satisfied: colorama in c:\\users\\vanda\\.conda\\envs\\tensorflow\\lib\\site-packages (from tqdm>=4.42.1->huggingface-hub<1.0,>=0.16.4->tokenizers<1,>=0.15->cohere) (0.4.6)\n",
      "Using cached cohere-5.15.0-py3-none-any.whl (259 kB)\n",
      "Installing collected packages: cohere\n",
      "  Attempting uninstall: cohere\n",
      "    Found existing installation: cohere 4.38\n",
      "    Uninstalling cohere-4.38:\n",
      "      Successfully uninstalled cohere-4.38\n",
      "Successfully installed cohere-5.15.0\n"
     ]
    }
   ],
   "source": [
    "pip install --upgrade cohere\n"
   ]
  },
  {
   "cell_type": "code",
   "execution_count": 1,
   "id": "eca09c28-e947-4311-b64e-1a40cf56dd46",
   "metadata": {},
   "outputs": [
    {
     "name": "stdout",
     "output_type": "stream",
     "text": [
      "Name: cohere\n",
      "Version: 5.15.0\n",
      "Summary: \n",
      "Home-page: \n",
      "Author: \n",
      "Author-email: \n",
      "License: MIT\n",
      "Location: c:\\users\\vanda\\.conda\\envs\\tensorflow\\lib\\site-packages\n",
      "Requires: fastavro, httpx, httpx-sse, pydantic, pydantic-core, requests, tokenizers, types-requests, typing_extensions\n",
      "Required-by: \n",
      "Note: you may need to restart the kernel to use updated packages.\n"
     ]
    }
   ],
   "source": [
    "pip show cohere"
   ]
  },
  {
   "cell_type": "code",
   "execution_count": null,
   "id": "427b4435-ca04-4274-82d4-14cff87bc273",
   "metadata": {},
   "outputs": [],
   "source": []
  }
 ],
 "metadata": {
  "kernelspec": {
   "display_name": "Python 3 (ipykernel)",
   "language": "python",
   "name": "python3"
  },
  "language_info": {
   "codemirror_mode": {
    "name": "ipython",
    "version": 3
   },
   "file_extension": ".py",
   "mimetype": "text/x-python",
   "name": "python",
   "nbconvert_exporter": "python",
   "pygments_lexer": "ipython3",
   "version": "3.9.21"
  }
 },
 "nbformat": 4,
 "nbformat_minor": 5
}

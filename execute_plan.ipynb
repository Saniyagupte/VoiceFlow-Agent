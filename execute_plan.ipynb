{
 "cells": [
  {
   "cell_type": "code",
   "execution_count": 3,
   "id": "a4c934a2-2e41-43ec-ab04-2241562f21fe",
   "metadata": {},
   "outputs": [],
   "source": [
    "import os\n",
    "import webbrowser\n",
    "\n",
    "from handlers import open_file, open_app, unknown_intent\n",
    "\n",
    "command_router = {\n",
    "    \"open_file\": open_file,\n",
    "    \"open_app\": open_app,\n",
    "    # Add more here later...\n",
    "}\n",
    "\n",
    "def execute_plan(plan):\n",
    "    if isinstance(plan, dict):  # single task\n",
    "        plan = [plan]\n",
    "\n",
    "    for task in plan:\n",
    "        intent = task.get(\"intent\")\n",
    "        handler = command_router.get(intent, unknown_intent)\n",
    "        handler(task)"
   ]
  },
  {
   "cell_type": "code",
   "execution_count": null,
   "id": "07f02828-5891-440a-a509-c27ee0316532",
   "metadata": {},
   "outputs": [],
   "source": []
  }
 ],
 "metadata": {
  "kernelspec": {
   "display_name": "Python 3 (ipykernel)",
   "language": "python",
   "name": "python3"
  },
  "language_info": {
   "codemirror_mode": {
    "name": "ipython",
    "version": 3
   },
   "file_extension": ".py",
   "mimetype": "text/x-python",
   "name": "python",
   "nbconvert_exporter": "python",
   "pygments_lexer": "ipython3",
   "version": "3.9.21"
  }
 },
 "nbformat": 4,
 "nbformat_minor": 5
}

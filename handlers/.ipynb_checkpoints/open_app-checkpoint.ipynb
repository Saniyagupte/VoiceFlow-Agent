{
 "cells": [
  {
   "cell_type": "code",
   "execution_count": 1,
   "id": "6275750a-3096-405f-ae19-ad2f7fb34726",
   "metadata": {},
   "outputs": [],
   "source": [
    "import os\n",
    "import platform\n",
    "import subprocess\n",
    "\n",
    "class OpenAppHandler:\n",
    "    APP_COMMANDS = {\n",
    "        \"spotify\": \"spotify\",\n",
    "        \"notepad\": \"notepad\",\n",
    "        \"vscode\": \"code\",\n",
    "        \"chrome\": \"chrome\",\n",
    "        \"calculator\": \"calc\",\n",
    "        # Add more mappings here\n",
    "    }\n",
    "\n",
    "    def execute(self, task):\n",
    "        app_name = task.get(\"app_name\", \"\").lower()\n",
    "\n",
    "        if app_name not in self.APP_COMMANDS:\n",
    "            print(f\" App '{app_name}' is not supported yet.\")\n",
    "            return\n",
    "\n",
    "        command = self.APP_COMMANDS[app_name]\n",
    "\n",
    "        try:\n",
    "            # Detect OS and run accordingly\n",
    "            if platform.system() == \"Windows\":\n",
    "                os.system(f\"start {command}\")\n",
    "            elif platform.system() == \"Darwin\":  # macOS\n",
    "                subprocess.run([\"open\", \"-a\", command])\n",
    "            elif platform.system() == \"Linux\":\n",
    "                subprocess.Popen([command])\n",
    "            else:\n",
    "                print(\" Unsupported OS\")\n",
    "                return\n",
    "\n",
    "            print(f\" Launching {app_name}...\")\n",
    "        except Exception as e:\n",
    "            print(f\" Failed to open {app_name}: {e}\")\n"
   ]
  },
  {
   "cell_type": "code",
   "execution_count": null,
   "id": "2d221b57-9d6b-4f4f-82bf-ee03455926c5",
   "metadata": {},
   "outputs": [],
   "source": []
  }
 ],
 "metadata": {
  "kernelspec": {
   "display_name": "Python 3 (ipykernel)",
   "language": "python",
   "name": "python3"
  },
  "language_info": {
   "codemirror_mode": {
    "name": "ipython",
    "version": 3
   },
   "file_extension": ".py",
   "mimetype": "text/x-python",
   "name": "python",
   "nbconvert_exporter": "python",
   "pygments_lexer": "ipython3",
   "version": "3.9.21"
  }
 },
 "nbformat": 4,
 "nbformat_minor": 5
}

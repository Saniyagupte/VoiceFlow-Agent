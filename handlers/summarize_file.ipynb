{
 "cells": [
  {
   "cell_type": "code",
   "execution_count": 5,
   "id": "45effe86-1d63-4a12-9ef2-d9a519e0d090",
   "metadata": {},
   "outputs": [],
   "source": [
    "# handlers/summarize_file.py\n",
    "\n",
    "import os\n",
    "from langchain.document_loaders import PyPDFLoader\n",
    "from langchain.embeddings import OpenAIEmbeddings\n",
    "from langchain.vectorstores import FAISS\n",
    "from langchain.chains.question_answering import load_qa_chain\n",
    "from langchain.llms import OpenAI\n",
    "from langchain.text_splitter import RecursiveCharacterTextSplitter\n",
    "\n",
    "class SummarizeFileHandler:\n",
    "    def __init__(self, task):\n",
    "        self.task = task\n",
    "\n",
    "    def run(self):\n",
    "        file_path = self.task.get(\"file_path\")\n",
    "        if not file_path or not os.path.exists(file_path):\n",
    "            print(\"❌ File not found or not provided.\")\n",
    "            return\n",
    "\n",
    "        print(f\"📄 Summarizing file: {file_path}\")\n",
    "\n",
    "        # Load and split\n",
    "        loader = PyPDFLoader(file_path)\n",
    "        docs = loader.load()\n",
    "\n",
    "        splitter = RecursiveCharacterTextSplitter(chunk_size=1000, chunk_overlap=100)\n",
    "        splits = splitter.split_documents(docs)\n",
    "\n",
    "        # Embeddings + Vector store\n",
    "        embeddings = OpenAIEmbeddings()\n",
    "        vectordb = FAISS.from_documents(splits, embeddings)\n",
    "\n",
    "        # Chain\n",
    "        llm = OpenAI(temperature=0)\n",
    "        chain = load_qa_chain(llm, chain_type=\"stuff\")\n",
    "\n",
    "        question = \"Please summarize this document in 5 bullet points\"\n",
    "        result = chain.run(input_documents=splits, question=question)\n",
    "\n",
    "        print(\"✅ Summary:\")\n",
    "        print(result)\n",
    "        return result\n"
   ]
  },
  {
   "cell_type": "code",
   "execution_count": null,
   "id": "2c2d1548-a46d-4570-861d-f0451c7f94a0",
   "metadata": {},
   "outputs": [],
   "source": []
  },
  {
   "cell_type": "code",
   "execution_count": null,
   "id": "4b6bdff7-110f-449e-87ed-d923d03e50ae",
   "metadata": {},
   "outputs": [],
   "source": []
  }
 ],
 "metadata": {
  "kernelspec": {
   "display_name": "Python 3 (ipykernel)",
   "language": "python",
   "name": "python3"
  },
  "language_info": {
   "codemirror_mode": {
    "name": "ipython",
    "version": 3
   },
   "file_extension": ".py",
   "mimetype": "text/x-python",
   "name": "python",
   "nbconvert_exporter": "python",
   "pygments_lexer": "ipython3",
   "version": "3.9.21"
  }
 },
 "nbformat": 4,
 "nbformat_minor": 5
}

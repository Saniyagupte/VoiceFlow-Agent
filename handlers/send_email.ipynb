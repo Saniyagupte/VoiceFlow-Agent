{
 "cells": [
  {
   "cell_type": "code",
   "execution_count": 1,
   "id": "4a06d842-02af-4cf6-81e4-d507db5ecd5f",
   "metadata": {},
   "outputs": [],
   "source": [
    "# handlers/send_email.py\n",
    "\n",
    "import smtplib\n",
    "from email.mime.text import MIMEText\n",
    "from email.mime.multipart import MIMEMultipart\n",
    "import os\n",
    "from dotenv import load_dotenv\n",
    "\n",
    "load_dotenv()\n",
    "\n",
    "class SendEmailHandler:\n",
    "    def __init__(self, context=None):\n",
    "        self.context = context\n",
    "\n",
    "    def handle(self, plan):\n",
    "        recipient = plan.get(\"recipient\")\n",
    "        subject = plan.get(\"subject\", \"VoiceFlow Agent Email\")\n",
    "        body = plan.get(\"body\", \"This is a message sent by your AI assistant.\")\n",
    "\n",
    "        if not recipient:\n",
    "            print(\" No recipient specified.\")\n",
    "            return\n",
    "\n",
    "        try:\n",
    "            self.send_email(recipient, subject, body)\n",
    "            print(f\"📧 Email sent to {recipient}!\")\n",
    "        except Exception as e:\n",
    "            print(f\" Failed to send email: {e}\")\n",
    "\n",
    "    def send_email(self, to_email, subject, body):\n",
    "        # Read from .env\n",
    "        smtp_server = os.getenv(\"SMTP_SERVER\", \"smtp.gmail.com\")\n",
    "        smtp_port = int(os.getenv(\"SMTP_PORT\", 587))\n",
    "        sender_email = os.getenv(\"EMAIL_ADDRESS\")\n",
    "        sender_password = os.getenv(\"EMAIL_PASSWORD\")\n",
    "\n",
    "        if not sender_email or not sender_password:\n",
    "            raise ValueError(\"Missing sender credentials in .env\")\n",
    "\n",
    "        msg = MIMEMultipart()\n",
    "        msg[\"From\"] = sender_email\n",
    "        msg[\"To\"] = to_email\n",
    "        msg[\"Subject\"] = subject\n",
    "\n",
    "        msg.attach(MIMEText(body, \"plain\"))\n",
    "\n",
    "        with smtplib.SMTP(smtp_server, smtp_port) as server:\n",
    "            server.starttls()\n",
    "            server.login(sender_email, sender_password)\n",
    "            server.send_message(msg)\n"
   ]
  },
  {
   "cell_type": "code",
   "execution_count": null,
   "id": "e2cb3cb4-3fd1-4605-a137-b4c44f6e996c",
   "metadata": {},
   "outputs": [],
   "source": []
  }
 ],
 "metadata": {
  "kernelspec": {
   "display_name": "Python 3 (ipykernel)",
   "language": "python",
   "name": "python3"
  },
  "language_info": {
   "codemirror_mode": {
    "name": "ipython",
    "version": 3
   },
   "file_extension": ".py",
   "mimetype": "text/x-python",
   "name": "python",
   "nbconvert_exporter": "python",
   "pygments_lexer": "ipython3",
   "version": "3.9.21"
  }
 },
 "nbformat": 4,
 "nbformat_minor": 5
}

{
 "cells": [
  {
   "cell_type": "code",
   "execution_count": 1,
   "id": "eedfad30-0ded-4f21-abe2-0a82d212a4f6",
   "metadata": {},
   "outputs": [],
   "source": [
    "import json\n",
    "import os\n",
    "\n",
    "MEMORY_FILE = \"memory_store.json\"\n",
    "\n",
    "def load_memory():\n",
    "    if not os.path.exists(MEMORY_FILE):\n",
    "        return {}\n",
    "    with open(MEMORY_FILE, \"r\") as f:\n",
    "        return json.load(f)\n",
    "\n",
    "def save_memory(memory):\n",
    "    with open(MEMORY_FILE, \"w\") as f:\n",
    "        json.dump(memory, f)\n",
    "\n",
    "def get_context(key, default=None):\n",
    "    memory = load_memory()\n",
    "    return memory.get(key, default)\n",
    "\n",
    "def set_context(key, value):\n",
    "    memory = load_memory()\n",
    "    memory[key] = value\n",
    "    save_memory(memory)\n"
   ]
  },
  {
   "cell_type": "code",
   "execution_count": null,
   "id": "aa4c0d13-bdf1-41db-843b-495a87d29935",
   "metadata": {},
   "outputs": [],
   "source": []
  }
 ],
 "metadata": {
  "kernelspec": {
   "display_name": "Python 3 (ipykernel)",
   "language": "python",
   "name": "python3"
  },
  "language_info": {
   "codemirror_mode": {
    "name": "ipython",
    "version": 3
   },
   "file_extension": ".py",
   "mimetype": "text/x-python",
   "name": "python",
   "nbconvert_exporter": "python",
   "pygments_lexer": "ipython3",
   "version": "3.9.21"
  }
 },
 "nbformat": 4,
 "nbformat_minor": 5
}

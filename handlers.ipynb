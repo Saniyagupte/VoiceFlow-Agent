{
 "cells": [
  {
   "cell_type": "code",
   "execution_count": 1,
   "id": "e15e169b-3642-4da2-8f31-a803528b56af",
   "metadata": {},
   "outputs": [],
   "source": [
    "# handlers.py\n",
    "\n",
    "def open_file(task):\n",
    "    import os\n",
    "    file_type = task.get(\"file_type\", \"pdf\")\n",
    "    downloads_path = os.path.join(os.path.expanduser(\"~\"), \"Downloads\")\n",
    "    for file in os.listdir(downloads_path):\n",
    "        if file.endswith(f\".{file_type}\"):\n",
    "            os.startfile(os.path.join(downloads_path, file))\n",
    "            return\n",
    "\n",
    "def open_app(task):\n",
    "    import os\n",
    "    app_name = task.get(\"app_name\", \"\").lower()\n",
    "    if app_name == \"spotify\":\n",
    "        os.system(\"start spotify\")\n",
    "    elif app_name == \"notepad\":\n",
    "        os.system(\"notepad\")\n",
    "\n",
    "def unknown_intent(task):\n",
    "    print(f\" Unknown intent: {task.get('intent')}\")\n"
   ]
  },
  {
   "cell_type": "code",
   "execution_count": null,
   "id": "b45c8e59-1685-4eac-9007-64e6f5174c84",
   "metadata": {},
   "outputs": [],
   "source": []
  }
 ],
 "metadata": {
  "kernelspec": {
   "display_name": "Python 3 (ipykernel)",
   "language": "python",
   "name": "python3"
  },
  "language_info": {
   "codemirror_mode": {
    "name": "ipython",
    "version": 3
   },
   "file_extension": ".py",
   "mimetype": "text/x-python",
   "name": "python",
   "nbconvert_exporter": "python",
   "pygments_lexer": "ipython3",
   "version": "3.9.21"
  }
 },
 "nbformat": 4,
 "nbformat_minor": 5
}
